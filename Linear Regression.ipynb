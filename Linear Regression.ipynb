{
 "cells": [
  {
   "cell_type": "code",
   "execution_count": 74,
   "metadata": {},
   "outputs": [],
   "source": [
    "import pandas as pd\n",
    "import numpy  as np\n",
    "from sklearn.model_selection import train_test_split\n",
    "\n",
    "data=pd.read_csv(r'C:\\Users\\Nippun Sharma\\Downloads\\Salary_Data.csv')"
   ]
  },
  {
   "cell_type": "code",
   "execution_count": 88,
   "metadata": {},
   "outputs": [],
   "source": [
    "class linear_model:\n",
    "    def __init__(self,learning_rate=0.01, l2_reg=0, n_iter=1000):\n",
    "        self.lr=learning_rate\n",
    "        self.l2_reg=l2_reg\n",
    "        self.n_iter=n_iter\n",
    "        self.w=None\n",
    "        self.b=None\n",
    "        \n",
    "    def fit(self,X,y,l2_reg=0,n_iter=1000,learning_rate=0.01,verbose=0):\n",
    "        \n",
    "        self.l2_reg=l2_reg\n",
    "        self.n_iter=n_iter\n",
    "        self.lr=learning_rate\n",
    "        \n",
    "        if(len(X.shape)==1):\n",
    "            n_samples=X.shape\n",
    "            n_features=1\n",
    "        else:\n",
    "            n_samples,n_features=X.shape\n",
    "        self.w=np.zeros((n_features,1))\n",
    "        self.b=0\n",
    "        \n",
    "        print('Starting -- learning_rate:',self.lr,',iterations:',self.n_iter,',L2_regularization:',self.l2_reg,'\\n')\n",
    "        for _ in range(self.n_iter):\n",
    "            s1=0\n",
    "            s2=0\n",
    "            for idx,x_i in enumerate(X):\n",
    "                s1+=(np.dot(self.w.T,x_i)+self.b)*x_i - y[idx]*x_i\n",
    "                s2+=(np.dot(self.w.T,x_i)+self.b - y[idx])\n",
    "            if(verbose!=0):\n",
    "                print('Iteration number :',_)\n",
    "                if((_)%10==0):\n",
    "                    print('w=',self.w,'b=',self.b,'\\n')\n",
    "            self.w-=self.lr*(self.w*self.l2_reg + 2*s1/n_samples)\n",
    "            self.b-=self.lr*(2*s2/n_samples)\n",
    "            \n",
    "    def predict(self,X):\n",
    "        predicts=[]\n",
    "        for idx,x_i in enumerate(X):\n",
    "            predicts.append(np.dot(self.w.T,x_i)+self.b)\n",
    "        return predicts\n",
    "    \n",
    "    def find_loss(self,X,y):\n",
    "        predicts=self.predict(X)\n",
    "        y=np.array(y)\n",
    "        predicts=np.array(predicts)\n",
    "        return ((predicts-y)**2).mean()"
   ]
  },
  {
   "cell_type": "code",
   "execution_count": 109,
   "metadata": {
    "scrolled": false
   },
   "outputs": [
    {
     "name": "stdout",
     "output_type": "stream",
     "text": [
      "Starting -- learning_rate: 0.01 ,iterations: 1000 ,L2_regularization: 0 \n",
      "\n"
     ]
    }
   ],
   "source": [
    "X=data['YearsExperience']\n",
    "y=data['Salary']\n",
    "\n",
    "X_train,X_test,y_train,y_test=train_test_split(X,y,test_size=0.1)\n",
    "\n",
    "X_train,X_test,y_train,y_test=np.array(X_train),np.array(X_test),np.array(y_train),np.array(y_test)\n",
    "\n",
    "model=linear_model()\n",
    "model.fit(X_train,y_train,verbose=0,l2_reg=0)"
   ]
  },
  {
   "cell_type": "code",
   "execution_count": 110,
   "metadata": {},
   "outputs": [
    {
     "data": {
      "image/png": "[encoded data removed]",
      "text/plain": [
       "<Figure size 432x288 with 1 Axes>"
      ]
     },
     "metadata": {
      "needs_background": "light"
     },
     "output_type": "display_data"
    }
   ],
   "source": [
    "import matplotlib.pyplot as plt\n",
    "%matplotlib inline\n",
    "\n",
    "x=np.arange(min(X_train),max(X_train),1)\n",
    "\n",
    "plt.scatter(X_train,y_train)\n",
    "plt.plot(x,model.w[0][0]*x+model.b[0][0], color='y')\n",
    "plt.scatter(X_test,y_test)\n",
    "plt.show()"
   ]
  },
  {
   "cell_type": "code",
   "execution_count": 111,
   "metadata": {},
   "outputs": [
    {
     "name": "stdout",
     "output_type": "stream",
     "text": [
      "[array([[73791.27050236]]), array([[37095.94898157]]), array([[62203.27423263]])]\n",
      "311901959.8056772\n",
      "[66029. 46205. 63218.]\n"
     ]
    }
   ],
   "source": [
    "print(model.predict(X_test))\n",
    "print(model.find_loss(X_test,y_test))\n",
    "print(y_test)"
   ]
  },
  {
   "cell_type": "code",
   "execution_count": 112,
   "metadata": {},
   "outputs": [
    {
     "name": "stdout",
     "output_type": "stream",
     "text": [
      "[array([[86344.93312789]]), array([[26473.61906765]]), array([[147181.91354394]])]\n"
     ]
    }
   ],
   "source": [
    "print(model.predict([6.4,0.2,12.7]))"
   ]
  }
 ],
 "metadata": {
  "kernelspec": {
   "display_name": "Python 3",
   "language": "python",
   "name": "python3"
  },
  "language_info": {
   "codemirror_mode": {
    "name": "ipython",
    "version": 3
   },
   "file_extension": ".py",
   "mimetype": "text/x-python",
   "name": "python",
   "nbconvert_exporter": "python",
   "pygments_lexer": "ipython3",
   "version": "3.7.3"
  }
 },
 "nbformat": 4,
 "nbformat_minor": 2
}
